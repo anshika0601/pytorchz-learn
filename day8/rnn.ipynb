{
 "cells": [
  {
   "cell_type": "code",
   "execution_count": 1,
   "id": "ecd9617a-6bdd-4ca3-891c-923e6eebb8fb",
   "metadata": {},
   "outputs": [
    {
     "name": "stdout",
     "output_type": "stream",
     "text": [
      "[0, 4, 5, 1]\n",
      "tensor([[1., 0., 0., 0., 0., 0.],\n",
      "        [0., 0., 0., 0., 1., 0.],\n",
      "        [0., 0., 0., 0., 0., 1.],\n",
      "        [0., 1., 0., 0., 0., 0.]])\n"
     ]
    }
   ],
   "source": [
    "#prepocessing\n",
    "\n",
    "text=\"anshika\"\n",
    "voc=sorted(list(set(text)))\n",
    "\n",
    "\n",
    "char2idx={ch:i for i,ch in enumerate(voc)}\n",
    "idx2char={i:ch for i,ch in enumerate(voc)}\n",
    "seq = \"ansh\"\n",
    "indices = [char2idx[ch] for ch in seq]\n",
    "print(indices)  \n",
    "\n",
    "#one hot encoding method\n",
    "import torch\n",
    "\n",
    "def one_hot_encode(indices, vocab_size):\n",
    "    return torch.eye(vocab_size)[indices]\n",
    "\n",
    "vocab_size = len(voc)\n",
    "one_hot = one_hot_encode(indices, vocab_size)\n",
    "print(one_hot)\n",
    "\n"
   ]
  },
  {
   "cell_type": "code",
   "execution_count": 2,
   "id": "8af19ba2-ea29-49a4-af31-8bde5810f8f3",
   "metadata": {},
   "outputs": [],
   "source": [
    "#forward pass\n",
    "\n",
    "import torch\n",
    "import torch.nn as nn\n",
    "\n",
    "class CharRNN(nn.Module):\n",
    "    def __init__(self, vocab_size, embedding_dim, hidden_size):\n",
    "        super(CharRNN, self).__init__()\n",
    "        self.embedding = nn.Embedding(vocab_size, embedding_dim)\n",
    "        self.rnn = nn.RNN(embedding_dim, hidden_size, batch_first=True)\n",
    "        self.fc = nn.Linear(hidden_size, vocab_size)  # predict next char\n",
    "\n",
    "    def forward(self, x, hidden=None):\n",
    "        x = self.embedding(x)              # (batch, seq, embed)\n",
    "        out, hidden = self.rnn(x, hidden)  # (batch, seq, hidden)\n",
    "        out = self.fc(out)                 # (batch, seq, vocab)\n",
    "        return out, hidden\n"
   ]
  },
  {
   "cell_type": "code",
   "execution_count": 3,
   "id": "ca83dec0-c475-4b0c-9a17-a8ca71e9180a",
   "metadata": {},
   "outputs": [
    {
     "name": "stdout",
     "output_type": "stream",
     "text": [
      "torch.Size([10, 32, 16])\n",
      "torch.Size([1, 32, 16])\n"
     ]
    }
   ],
   "source": [
    "import torch\n",
    "import torch.nn as nn\n",
    "\n",
    "# Example: 10 time steps, batch size 32, input_size = 8 features per step\n",
    "seq_len, batch, input_size = 10, 32, 8\n",
    "x = torch.randn(seq_len, batch, input_size)  # Random sequence data\n",
    "\n",
    "rnn = nn.RNN(input_size=input_size, hidden_size=16)  # hidden_size = RNN memory\n",
    "out, h_n = rnn(x)\n",
    "\n",
    "print(out.shape)  # (seq_len, batch, hidden_size)\n",
    "print(h_n.shape)  # (num_layers * num_directions, batch, hidden_size)\n"
   ]
  },
  {
   "cell_type": "code",
   "execution_count": null,
   "id": "0be71f91-fb13-4904-b37e-30d6315948c6",
   "metadata": {},
   "outputs": [],
   "source": [
    "#training\n"
   ]
  }
 ],
 "metadata": {
  "kernelspec": {
   "display_name": "Python 3 (ipykernel)",
   "language": "python",
   "name": "python3"
  },
  "language_info": {
   "codemirror_mode": {
    "name": "ipython",
    "version": 3
   },
   "file_extension": ".py",
   "mimetype": "text/x-python",
   "name": "python",
   "nbconvert_exporter": "python",
   "pygments_lexer": "ipython3",
   "version": "3.13.3"
  }
 },
 "nbformat": 4,
 "nbformat_minor": 5
}
