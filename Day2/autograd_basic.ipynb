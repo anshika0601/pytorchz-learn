{
 "cells": [
  {
   "cell_type": "code",
   "execution_count": 1,
   "id": "60dd25a1-3aef-4951-95e5-7772adb4f0d4",
   "metadata": {},
   "outputs": [
    {
     "name": "stdout",
     "output_type": "stream",
     "text": [
      "∂y/∂x0: tensor(4.)\n",
      "∂y/∂x1: tensor(3.)\n"
     ]
    }
   ],
   "source": [
    "import torch\n",
    "\n",
    "# Create tensors\n",
    "x = torch.tensor([2.0, 3.0], requires_grad=True)\n",
    "\n",
    "# Define a simple function\n",
    "y = x[0]**2 + 3 * x[1]\n",
    "\n",
    "# Compute gradients\n",
    "y.backward()\n",
    "\n",
    "# Derivatives\n",
    "print(\"∂y/∂x0:\", x.grad[0])\n",
    "print(\"∂y/∂x1:\", x.grad[1])\n"
   ]
  },
  {
   "cell_type": "code",
   "execution_count": 2,
   "id": "67648365-17a5-4885-acc6-ecad2cf1e294",
   "metadata": {},
   "outputs": [
    {
     "name": "stdout",
     "output_type": "stream",
     "text": [
      "Derivative dy/dx at x=5: 94.0\n"
     ]
    }
   ],
   "source": [
    "x = torch.tensor([5.0], requires_grad=True)\n",
    "y = x ** 3 + 2 * x ** 2 - x\n",
    "y.backward()\n",
    "print(\"Derivative dy/dx at x=5:\", x.grad.item())\n"
   ]
  },
  {
   "cell_type": "code",
   "execution_count": 3,
   "id": "eaa87eac-1096-439c-be21-91ab120fe9d7",
   "metadata": {},
   "outputs": [
    {
     "name": "stdout",
     "output_type": "stream",
     "text": [
      "Output at layer: tensor([[-0.0488, -0.4063]], grad_fn=<AddmmBackward0>)\n"
     ]
    }
   ],
   "source": [
    "import torch\n",
    "import torch.nn as nn\n",
    "\n",
    "class SimpleLinearNet(nn.Module):\n",
    "    def __init__(self, input_dim, output_dim):\n",
    "        super().__init__()\n",
    "        self.fc1 = nn.Linear(input_dim, output_dim)  # 1-layer linear\n",
    "\n",
    "    def forward(self, x):\n",
    "        out = self.fc1(x)\n",
    "        print(\"Output at layer:\", out)   # Visualize outputs\n",
    "        return out\n",
    "\n",
    "# Example usage\n",
    "net = SimpleLinearNet(4, 2)\n",
    "dummy_input = torch.randn(1, 4)\n",
    "output = net(dummy_input)\n"
   ]
  },
  {
   "cell_type": "code",
   "execution_count": 4,
   "id": "0be90dac-4832-4c93-b79f-f8b24f05f2f1",
   "metadata": {},
   "outputs": [
    {
     "name": "stdout",
     "output_type": "stream",
     "text": [
      "Derivative dy/dx at x=2.0: 3.6439173221588135\n"
     ]
    }
   ],
   "source": [
    "x = torch.tensor([2.0], requires_grad=True)\n",
    "y = torch.sin(x) * torch.exp(x)\n",
    "y.backward()\n",
    "print(\"Derivative dy/dx at x=2.0:\", x.grad.item())\n"
   ]
  },
  {
   "cell_type": "code",
   "execution_count": 5,
   "id": "583e31c1-dca6-495f-a675-81b6b21b65bc",
   "metadata": {},
   "outputs": [
    {
     "data": {
      "image/png": "[encoded data removed]",
      "text/plain": [
       "<Figure size 640x480 with 1 Axes>"
      ]
     },
     "metadata": {},
     "output_type": "display_data"
    }
   ],
   "source": [
    "import matplotlib.pyplot as plt\n",
    "\n",
    "x_vals = torch.linspace(-2, 2, 100)\n",
    "y_vals = torch.sin(x_vals) * torch.exp(x_vals)\n",
    "grad_vals = []\n",
    "\n",
    "for x in x_vals:\n",
    "    x_ = torch.tensor([x.item()], requires_grad=True)\n",
    "    y_ = torch.sin(x_) * torch.exp(x_)\n",
    "    y_.backward()\n",
    "    grad_vals.append(x_.grad.item())\n",
    "\n",
    "plt.plot(x_vals.numpy(), grad_vals)\n",
    "plt.title(\"Derivative of sin(x)*e^x\")\n",
    "plt.xlabel(\"x\")\n",
    "plt.ylabel(\"dy/dx\")\n",
    "plt.show()\n"
   ]
  },
  {
   "cell_type": "code",
   "execution_count": 6,
   "id": "817e9f96-bd0c-4d9d-ae91-d1cbe0b9a7e0",
   "metadata": {},
   "outputs": [],
   "source": [
    "class SimpleLinearNet(nn.Module):\n",
    "    def __init__(self, input_dim, output_dim):\n",
    "        super().__init__()\n",
    "        self.fc1 = nn.Linear(input_dim, output_dim)\n",
    "        self.relu = nn.ReLU()\n",
    "\n",
    "    def forward(self, x):\n",
    "        out = self.fc1(x)\n",
    "        print(\"Output after linear:\", out)\n",
    "        out = self.relu(out)\n",
    "        print(\"Output after ReLU:\", out)\n",
    "        return out\n"
   ]
  },
  {
   "cell_type": "code",
   "execution_count": null,
   "id": "d08c0caa-e84f-4dcf-83ad-38934564c15b",
   "metadata": {},
   "outputs": [],
   "source": []
  }
 ],
 "metadata": {
  "kernelspec": {
   "display_name": "Python 3 (ipykernel)",
   "language": "python",
   "name": "python3"
  },
  "language_info": {
   "codemirror_mode": {
    "name": "ipython",
    "version": 3
   },
   "file_extension": ".py",
   "mimetype": "text/x-python",
   "name": "python",
   "nbconvert_exporter": "python",
   "pygments_lexer": "ipython3",
   "version": "3.13.3"
  }
 },
 "nbformat": 4,
 "nbformat_minor": 5
}
