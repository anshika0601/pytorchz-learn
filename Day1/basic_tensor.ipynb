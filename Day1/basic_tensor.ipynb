{
 "cells": [
  {
   "cell_type": "code",
   "execution_count": 1,
   "id": "953a3a29-c818-43af-a60b-771f28c8e66d",
   "metadata": {},
   "outputs": [
    {
     "name": "stdout",
     "output_type": "stream",
     "text": [
      "Hello, PyTorch Learner! Let's learn PyTorch.\n",
      "0 1 2 3 4 "
     ]
    }
   ],
   "source": [
    "# Basic variables and data types\n",
    "a = 10\n",
    "b = 3.14\n",
    "name = \"PyTorch Learner\"\n",
    "is_active = True\n",
    "\n",
    "# Simple print\n",
    "print(f\"Hello, {name}! Let's learn PyTorch.\")\n",
    "\n",
    "# List and loops\n",
    "for i in range(5):\n",
    "    print(i, end=' ')\n"
   ]
  },
  {
   "cell_type": "code",
   "execution_count": 13,
   "id": "80d8cadd-04e8-44fa-9794-897df65c6362",
   "metadata": {},
   "outputs": [
    {
     "name": "stdout",
     "output_type": "stream",
     "text": [
      "Tensor x: tensor([1, 2, 3])\n",
      "Ones Tensor: \n",
      " tensor([[1, 1],\n",
      "        [1, 1]]) \n",
      "\n",
      "Random Tensor: \n",
      " tensor([[0.3552, 0.5426, 0.1072],\n",
      "        [0.9432, 0.2765, 0.0988]]) \n",
      "\n"
     ]
    }
   ],
   "source": [
    "import torch\n",
    "import numpy as np\n",
    "\n",
    "# Create tensors\n",
    "x = torch.tensor([1, 2, 3])\n",
    "print(\"Tensor x:\", x)\n",
    "\n",
    "#from numpy array\n",
    "data = [[1, 2],[3, 4]]\n",
    "np_array = np.array(data)\n",
    "x_np = torch.from_numpy(np_array)\n",
    "\n",
    "#from another tensor\n",
    "x_ones = torch.ones_like(x_np) # retains the properties of x_data\n",
    "print(f\"Ones Tensor: \\n {x_ones} \\n\")\n",
    "\n",
    "#with random value\n",
    "shape = (2,3)\n",
    "rand_tensor = torch.rand(shape)\n",
    "print(f\"Random Tensor: \\n {rand_tensor} \\n\")\n"
   ]
  },
  {
   "cell_type": "code",
   "execution_count": 14,
   "id": "b8297c62-4417-408d-9874-74a287a8f83d",
   "metadata": {},
   "outputs": [
    {
     "name": "stdout",
     "output_type": "stream",
     "text": [
      "Shape of tensor: torch.Size([3, 4])\n",
      "Datatype of tensor: torch.float32\n",
      "Device tensor is stored on: cpu\n"
     ]
    }
   ],
   "source": [
    "#attributes\n",
    "tensor = torch.rand(3,4)\n",
    "\n",
    "print(f\"Shape of tensor: {tensor.shape}\")\n",
    "print(f\"Datatype of tensor: {tensor.dtype}\")\n",
    "print(f\"Device tensor is stored on: {tensor.device}\")"
   ]
  },
  {
   "cell_type": "code",
   "execution_count": 15,
   "id": "e9a538bd-17f4-4c1c-bce6-b2f41b0b9c0e",
   "metadata": {},
   "outputs": [
    {
     "name": "stdout",
     "output_type": "stream",
     "text": [
      "b: tensor([4., 6.], grad_fn=<MulBackward0>)\n",
      "Gradient of a: tensor([2., 2.])\n"
     ]
    }
   ],
   "source": [
    "# Tensor with gradient tracking\n",
    "a = torch.tensor([2.0, 3.0], requires_grad=True)\n",
    "b = a * 2\n",
    "print(\"b:\", b)\n",
    "b.sum().backward()  # compute gradients\n",
    "print(\"Gradient of a:\", a.grad)"
   ]
  },
  {
   "cell_type": "code",
   "execution_count": 16,
   "id": "cb5ded63-dea2-47d5-83db-b9222024bc31",
   "metadata": {},
   "outputs": [
    {
     "name": "stdout",
     "output_type": "stream",
     "text": [
      "Full tensor:\n",
      " tensor([[1, 2, 3],\n",
      "        [4, 5, 6],\n",
      "        [7, 8, 9]])\n",
      "Access row 0: tensor([1, 2, 3])\n",
      "Access element [2,1]: tensor(8)\n",
      "Slice rows 0-1, columns 1-2:\n",
      " tensor([[2, 3],\n",
      "        [5, 6]])\n"
     ]
    }
   ],
   "source": [
    "#indexing and slicing \n",
    "x = torch.tensor([[1,2,3], [4,5,6], [7,8,9]])\n",
    "print(\"Full tensor:\\n\", x)\n",
    "\n",
    "print(\"Access row 0:\", x[0])\n",
    "print(\"Access element [2,1]:\", x[2,1])\n",
    "\n",
    "print(\"Slice rows 0-1, columns 1-2:\\n\", x[0:2, 1:3])\n"
   ]
  },
  {
   "cell_type": "code",
   "execution_count": 23,
   "id": "e524cbb3-5d57-48f3-bbc4-5fbbfef33e5b",
   "metadata": {},
   "outputs": [
    {
     "name": "stdout",
     "output_type": "stream",
     "text": [
      "Original tensor: tensor([ 1,  2,  3,  4,  5,  6,  7,  8,  9, 10, 11, 12])\n",
      "Reshaped tensor:\n",
      " tensor([[ 1,  2,  3,  4],\n",
      "        [ 5,  6,  7,  8],\n",
      "        [ 9, 10, 11, 12]])\n",
      "Flattened tensor: tensor([ 1,  2,  3,  4,  5,  6,  7,  8,  9, 10, 11, 12])\n"
     ]
    }
   ],
   "source": [
    "#reshaping\n",
    "x = torch.arange(1, 13)\n",
    "print(\"Original tensor:\", x)\n",
    "\n",
    "x_reshaped = x.view(3, 4)  # reshape to 3 rows, 4 columns\n",
    "print(\"Reshaped tensor:\\n\", x_reshaped)\n",
    "\n",
    "x_flattened = x_reshaped.view(-1)  # flatten to 1D\n",
    "print(\"Flattened tensor:\", x_flattened)\n"
   ]
  },
  {
   "cell_type": "code",
   "execution_count": 24,
   "id": "68f0d6a9-fa96-42be-a8e8-298dde7b8ffe",
   "metadata": {},
   "outputs": [
    {
     "name": "stdout",
     "output_type": "stream",
     "text": [
      "Addition: tensor([4., 6.])\n",
      "Multiplication: tensor([3., 8.])\n",
      "Matrix multiplication: tensor([[11.]])\n"
     ]
    }
   ],
   "source": [
    "a = torch.tensor([1.0, 2.0])\n",
    "b = torch.tensor([3.0, 4.0])\n",
    "\n",
    "print(\"Addition:\", a + b)\n",
    "print(\"Multiplication:\", a * b)\n",
    "print(\"Matrix multiplication:\", torch.matmul(a.view(1, 2), b.view(2, 1)))\n"
   ]
  },
  {
   "cell_type": "code",
   "execution_count": 27,
   "id": "25a5baa4-d316-4151-b96e-fd0604f52c88",
   "metadata": {},
   "outputs": [
    {
     "name": "stdout",
     "output_type": "stream",
     "text": [
      "tensor([[1., 1., 1., 1.],\n",
      "        [1., 1., 1., 1.],\n",
      "        [1., 1., 1., 1.],\n",
      "        [1., 1., 1., 1.]])\n",
      "tensor([[1., 0., 0., 0.],\n",
      "        [0., 1., 0., 0.],\n",
      "        [0., 0., 1., 0.],\n",
      "        [0., 0., 0., 1.]])\n"
     ]
    }
   ],
   "source": [
    "#Exercise to do-Try creating a tensor representing a 4x4 identity matrix using PyTorch function torch.eye\n",
    "\n",
    "y=torch.eye(4)\n",
    "print(x)\n",
    "print(y)\n"
   ]
  },
  {
   "cell_type": "code",
   "execution_count": null,
   "id": "3fe7c1db-3bab-4d75-acfe-8f2c6b61fdb2",
   "metadata": {},
   "outputs": [],
   "source": []
  }
 ],
 "metadata": {
  "kernelspec": {
   "display_name": "Python 3 (ipykernel)",
   "language": "python",
   "name": "python3"
  },
  "language_info": {
   "codemirror_mode": {
    "name": "ipython",
    "version": 3
   },
   "file_extension": ".py",
   "mimetype": "text/x-python",
   "name": "python",
   "nbconvert_exporter": "python",
   "pygments_lexer": "ipython3",
   "version": "3.13.3"
  }
 },
 "nbformat": 4,
 "nbformat_minor": 5
}
