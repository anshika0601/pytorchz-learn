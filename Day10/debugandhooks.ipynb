{
 "cells": [
  {
   "cell_type": "markdown",
   "id": "1f424ed4-8aac-4226-9222-dffa567d019c",
   "metadata": {},
   "source": [
    "Debugging concept"
   ]
  },
  {
   "cell_type": "code",
   "execution_count": 3,
   "id": "525025cd-f262-430f-b250-5ac071a72816",
   "metadata": {},
   "outputs": [
    {
     "name": "stdout",
     "output_type": "stream",
     "text": [
      "x shape: torch.Size([3, 4]), values:\n",
      "tensor([[-0.0960,  1.1307, -0.5986,  3.2438],\n",
      "        [ 0.8856,  0.5584, -0.7827,  0.9766],\n",
      "        [ 0.1968, -1.1729,  0.6739,  0.6308]])\n"
     ]
    },
    {
     "ename": "AssertionError",
     "evalue": "Batch size mismatch!",
     "output_type": "error",
     "traceback": [
      "\u001b[31m---------------------------------------------------------------------------\u001b[39m",
      "\u001b[31mAssertionError\u001b[39m                            Traceback (most recent call last)",
      "\u001b[36mCell\u001b[39m\u001b[36m \u001b[39m\u001b[32mIn[3]\u001b[39m\u001b[32m, line 7\u001b[39m\n\u001b[32m      5\u001b[39m \u001b[38;5;28mprint\u001b[39m(\u001b[33mf\u001b[39m\u001b[33m\"\u001b[39m\u001b[33mx shape: \u001b[39m\u001b[38;5;132;01m{\u001b[39;00mx.shape\u001b[38;5;132;01m}\u001b[39;00m\u001b[33m, values:\u001b[39m\u001b[38;5;130;01m\\n\u001b[39;00m\u001b[38;5;132;01m{\u001b[39;00mx\u001b[38;5;132;01m}\u001b[39;00m\u001b[33m\"\u001b[39m)\n\u001b[32m      6\u001b[39m y = torch.randn(\u001b[32m2\u001b[39m, \u001b[32m1\u001b[39m)\n\u001b[32m----> \u001b[39m\u001b[32m7\u001b[39m \u001b[38;5;28;01massert\u001b[39;00m x.shape[\u001b[32m0\u001b[39m] == y.shape[\u001b[32m0\u001b[39m], \u001b[33m\"\u001b[39m\u001b[33mBatch size mismatch!\u001b[39m\u001b[33m\"\u001b[39m\n",
      "\u001b[31mAssertionError\u001b[39m: Batch size mismatch!"
     ]
    }
   ],
   "source": [
    "#assert \n",
    "import torch\n",
    "\n",
    "x = torch.randn(3, 4)\n",
    "print(f\"x shape: {x.shape}, values:\\n{x}\")\n",
    "y = torch.randn(2, 1)\n",
    "assert x.shape[0] == y.shape[0], \"Batch size mismatch!\"\n"
   ]
  },
  {
   "cell_type": "code",
   "execution_count": 5,
   "id": "7fb50eb5-d7f4-421d-9c12-30e6215ac7c3",
   "metadata": {},
   "outputs": [
    {
     "name": "stdout",
     "output_type": "stream",
     "text": [
      "> \u001b[32mc:\\users\\asus\\appdata\\local\\temp\\ipykernel_11852\\3064510431.py\u001b[39m(\u001b[92m2\u001b[39m)\u001b[36m<module>\u001b[39m\u001b[34m()\u001b[39m\n",
      "\n"
     ]
    },
    {
     "name": "stdin",
     "output_type": "stream",
     "text": [
      "ipdb>  q\n"
     ]
    }
   ],
   "source": [
    "#built in debuggers\n",
    "import pdb; pdb.set_trace()\n"
   ]
  },
  {
   "cell_type": "code",
   "execution_count": 7,
   "id": "70fd3233-a145-47d2-93f6-c71b7ea8be22",
   "metadata": {},
   "outputs": [
    {
     "name": "stderr",
     "output_type": "stream",
     "text": [
      "INFO:root:Tensor shape: torch.Size([3, 4])\n"
     ]
    }
   ],
   "source": [
    "#logging\n",
    "import logging\n",
    "logging.basicConfig(level=logging.INFO)\n",
    "logging.info(f\"Tensor shape: {x.shape}\")\n"
   ]
  },
  {
   "cell_type": "code",
   "execution_count": 13,
   "id": "63a89096-1634-40be-8f6a-8295813e7951",
   "metadata": {
    "scrolled": true
   },
   "outputs": [
    {
     "name": "stdout",
     "output_type": "stream",
     "text": [
      "[FORWARD] Linear\n",
      "  Output shape: torch.Size([5, 3])\n",
      "[FORWARD] Linear\n",
      "  Output shape: torch.Size([5, 2])\n",
      "[BACKWARD] Linear\n",
      "  grad_output[0] mean: -0.005007477477192879\n"
     ]
    },
    {
     "name": "stderr",
     "output_type": "stream",
     "text": [
      "C:\\Users\\ASUS\\AppData\\Local\\Temp\\ipykernel_11852\\349787255.py:47: UserWarning: Full backward hook is firing when gradients are computed with respect to module outputs since no inputs require gradients. See https://docs.pytorch.org/docs/main/generated/torch.nn.Module.html#torch.nn.Module.register_full_backward_hook for more details.\n",
      "  loss.backward()\n"
     ]
    }
   ],
   "source": [
    "import torch\n",
    "import torch.nn as nn\n",
    "\n",
    "#  model\n",
    "class MyModel(nn.Module):\n",
    "    def __init__(self):\n",
    "        super(MyModel, self).__init__()\n",
    "        self.fc1 = nn.Linear(4, 3)\n",
    "        self.relu = nn.ReLU()\n",
    "        self.fc2 = nn.Linear(3, 2)\n",
    "\n",
    "    def forward(self, x):\n",
    "        x = self.fc1(x)\n",
    "        x = self.relu(x)\n",
    "        x = self.fc2(x)\n",
    "        return x\n",
    "\n",
    "model = MyModel()\n",
    "\n",
    "\n",
    "def forward_hook(module, input, output):\n",
    "    print(f\"[FORWARD] {module.__class__.__name__}\")\n",
    "    print(f\"  Output shape: {output.shape}\")\n",
    "\n",
    "\n",
    "def backward_hook(module, grad_input, grad_output):\n",
    "    print(f\"[BACKWARD] {module.__class__.__name__}\")\n",
    "    print(f\"  grad_output[0] mean: {grad_output[0].mean().item()}\")\n",
    "\n",
    "# Register hooks\n",
    "fwd_handle = model.fc1.register_forward_hook(forward_hook)\n",
    "fwd_handle2=model.fc2.register_forward_hook(forward_hook)\n",
    "bwd_handle = model.fc1.register_full_backward_hook(backward_hook)\n",
    "\n",
    "# Dummy input & target\n",
    "x = torch.randn(5, 4)         \n",
    "target = torch.randn(5, 2)   \n",
    "\n",
    "# Forward pass\n",
    "out = model(x)\n",
    "\n",
    "# Compute loss\n",
    "loss_fn = nn.MSELoss()\n",
    "loss = loss_fn(out, target)\n",
    "\n",
    "# Backward pass\n",
    "loss.backward()\n",
    "\n",
    "# Clean up hooks\n",
    "\n",
    "fwd_handle.remove()\n",
    "fwd_handle2.remove()\n",
    "bwd_handle.remove()\n"
   ]
  },
  {
   "cell_type": "code",
   "execution_count": 14,
   "id": "260cdf64-7654-420b-96a3-6b88f9c35136",
   "metadata": {},
   "outputs": [
    {
     "name": "stdout",
     "output_type": "stream",
     "text": [
      "False\n",
      "0\n",
      "No GPU\n"
     ]
    }
   ],
   "source": [
    "import torch\n",
    "print(torch.cuda.is_available())   # True if CUDA is usable\n",
    "print(torch.cuda.device_count())   # Number of GPUs\n",
    "print(torch.cuda.get_device_name(0) if torch.cuda.is_available() else \"No GPU\")\n"
   ]
  },
  {
   "cell_type": "code",
   "execution_count": null,
   "id": "844d821c-d1ff-420a-a241-f33a2ae16bdf",
   "metadata": {},
   "outputs": [],
   "source": []
  }
 ],
 "metadata": {
  "kernelspec": {
   "display_name": "Python 3 (ipykernel)",
   "language": "python",
   "name": "python3"
  },
  "language_info": {
   "codemirror_mode": {
    "name": "ipython",
    "version": 3
   },
   "file_extension": ".py",
   "mimetype": "text/x-python",
   "name": "python",
   "nbconvert_exporter": "python",
   "pygments_lexer": "ipython3",
   "version": "3.13.3"
  }
 },
 "nbformat": 4,
 "nbformat_minor": 5
}
