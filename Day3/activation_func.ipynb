{
 "cells": [
  {
   "cell_type": "code",
   "execution_count": 1,
   "id": "8851003d-f1ad-4a42-93ff-71d42aa0339c",
   "metadata": {},
   "outputs": [
    {
     "name": "stdout",
     "output_type": "stream",
     "text": [
      "ReLU: [0 0 0 1 2]\n",
      "Sigmoid: [0.11920292 0.26894142 0.5        0.73105858 0.88079708]\n",
      "Tanh: [-0.96402758 -0.76159416  0.          0.76159416  0.96402758]\n"
     ]
    }
   ],
   "source": [
    "import numpy as np\n",
    "\n",
    "# ReLU\n",
    "def relu(x):\n",
    "    return np.maximum(0, x)\n",
    "\n",
    "# Sigmoid\n",
    "def sigmoid(x):\n",
    "    return 1 / (1 + np.exp(-x))\n",
    "\n",
    "# Tanh\n",
    "def tanh(x):\n",
    "    return (np.exp(x) - np.exp(-x)) / (np.exp(x) + np.exp(-x))\n",
    "\n",
    "# Test with sample data\n",
    "x = np.array([-2, -1, 0, 1, 2])\n",
    "\n",
    "print(\"ReLU:\", relu(x))\n",
    "print(\"Sigmoid:\", sigmoid(x))\n",
    "print(\"Tanh:\", tanh(x))\n"
   ]
  },
  {
   "cell_type": "code",
   "execution_count": 2,
   "id": "8639e005-9a31-4e65-8eed-875e308e85a7",
   "metadata": {},
   "outputs": [
    {
     "name": "stdout",
     "output_type": "stream",
     "text": [
      "ReLU: tensor([0., 0., 0., 1., 2.])\n",
      "Sigmoid: tensor([0.1192, 0.2689, 0.5000, 0.7311, 0.8808])\n",
      "Tanh: tensor([-0.9640, -0.7616,  0.0000,  0.7616,  0.9640])\n",
      "ReLU (nn.Module): tensor([0., 0., 0., 1., 2.])\n",
      "Sigmoid (nn.Module): tensor([0.1192, 0.2689, 0.5000, 0.7311, 0.8808])\n",
      "Tanh (nn.Module): tensor([-0.9640, -0.7616,  0.0000,  0.7616,  0.9640])\n"
     ]
    }
   ],
   "source": [
    "import torch\n",
    "import torch.nn as nn\n",
    "\n",
    "# Sample tensor\n",
    "x = torch.tensor([-2.0, -1.0, 0.0, 1.0, 2.0])\n",
    "\n",
    "# Using torch.nn.functional \n",
    "import torch.nn.functional as F\n",
    "print(\"ReLU:\", F.relu(x))\n",
    "print(\"Sigmoid:\", torch.sigmoid(x))\n",
    "print(\"Tanh:\", torch.tanh(x))\n",
    "\n",
    "# Using torch.nn modules\n",
    "relu_layer = nn.ReLU()\n",
    "sigmoid_layer = nn.Sigmoid()\n",
    "tanh_layer = nn.Tanh()\n",
    "\n",
    "print(\"ReLU (nn.Module):\", relu_layer(x))\n",
    "print(\"Sigmoid (nn.Module):\", sigmoid_layer(x))\n",
    "print(\"Tanh (nn.Module):\", tanh_layer(x))\n"
   ]
  },
  {
   "cell_type": "code",
   "execution_count": null,
   "id": "592b746f-5eb0-4c80-a009-698f1e2ee48f",
   "metadata": {},
   "outputs": [],
   "source": []
  }
 ],
 "metadata": {
  "kernelspec": {
   "display_name": "Python 3 (ipykernel)",
   "language": "python",
   "name": "python3"
  },
  "language_info": {
   "codemirror_mode": {
    "name": "ipython",
    "version": 3
   },
   "file_extension": ".py",
   "mimetype": "text/x-python",
   "name": "python",
   "nbconvert_exporter": "python",
   "pygments_lexer": "ipython3",
   "version": "3.13.3"
  }
 },
 "nbformat": 4,
 "nbformat_minor": 5
}
